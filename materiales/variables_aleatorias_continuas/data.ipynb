{
 "cells": [
  {
   "cell_type": "code",
   "execution_count": 51,
   "metadata": {},
   "outputs": [
    {
     "name": "stdout",
     "output_type": "stream",
     "text": [
      "142.74\n",
      "146.58\n",
      "149.01\n",
      "151.72\n",
      "154.12\n",
      "158.23\n",
      "160.19\n",
      "165.46\n",
      "168.82\n"
     ]
    }
   ],
   "source": [
    "import numpy as np\n",
    "np.random.seed(0)\n",
    "\n",
    "x = np.arange(140,165,3) \n",
    "x = x + np.random.rand(len(x)) *5\n",
    "x = np.round(x,2)\n",
    "\n",
    "for a in x:\n",
    "    print(a)"
   ]
  },
  {
   "cell_type": "code",
   "execution_count": 52,
   "metadata": {},
   "outputs": [
    {
     "name": "stdout",
     "output_type": "stream",
     "text": [
      "142.74\n",
      "146.58\n",
      "149.01\n",
      "151.72\n",
      "154.12\n",
      "158.23\n",
      "160.19\n",
      "165.46\n",
      "168.82\n"
     ]
    }
   ],
   "source": [
    "y=1.5*50*x/x.mean() + np.random.rand(len(x)) *5\n",
    "y = np.round(y,2)\n",
    "for a in x:\n",
    "    print(a)\n"
   ]
  },
  {
   "cell_type": "code",
   "execution_count": 53,
   "metadata": {},
   "outputs": [
    {
     "name": "stdout",
     "output_type": "stream",
     "text": [
      "155.20777777777778 77.33777777777777\n"
     ]
    }
   ],
   "source": [
    "meanx = x.mean()\n",
    "meany = y.mean()\n",
    "print(meanx,meany)"
   ]
  },
  {
   "cell_type": "code",
   "execution_count": 54,
   "metadata": {},
   "outputs": [
    {
     "name": "stdout",
     "output_type": "stream",
     "text": [
      "[ 80.38946049  21.98166049  16.65824938   4.14270494  -1.91690617\n",
      "  -1.56483951   2.50218272  27.90882716 114.37291605]\n",
      "80.389460\n",
      "21.981660\n",
      "16.658249\n",
      "4.142705\n",
      "-1.916906\n",
      "-1.564840\n",
      "2.502183\n",
      "27.908827\n",
      "114.372916\n"
     ]
    }
   ],
   "source": [
    "prods = (x-np.ones(len(x))*meanx)*(y-np.ones(len(y))*meany)\n",
    "print(prods)\n",
    "for a in prods:\n",
    "    print( '{:f}'.format(a))"
   ]
  },
  {
   "cell_type": "code",
   "execution_count": 55,
   "metadata": {},
   "outputs": [
    {
     "name": "stdout",
     "output_type": "stream",
     "text": [
      "264.47425555555526 29.386028395061697\n"
     ]
    }
   ],
   "source": [
    "sums = prods.sum()\n",
    "cov = sums/len(prods)\n",
    "print(sums, cov)"
   ]
  },
  {
   "cell_type": "code",
   "execution_count": 56,
   "metadata": {},
   "outputs": [
    {
     "data": {
      "text/plain": [
       "array([[75.75016944, 33.05928194],\n",
       "       [33.05928194, 17.29169444]])"
      ]
     },
     "execution_count": 56,
     "metadata": {},
     "output_type": "execute_result"
    }
   ],
   "source": [
    "np.cov(x,y)"
   ]
  },
  {
   "cell_type": "code",
   "execution_count": 67,
   "metadata": {},
   "outputs": [
    {
     "data": {
      "text/plain": [
       "29.386028395061697"
      ]
     },
     "execution_count": 67,
     "metadata": {},
     "output_type": "execute_result"
    }
   ],
   "source": [
    "cov = sums/9\n",
    "cov"
   ]
  },
  {
   "cell_type": "code",
   "execution_count": 58,
   "metadata": {},
   "outputs": [
    {
     "data": {
      "text/plain": [
       "<matplotlib.collections.PathCollection at 0x7f7eb31d0ac0>"
      ]
     },
     "execution_count": 58,
     "metadata": {},
     "output_type": "execute_result"
    },
    {
     "data": {
      "image/png": "[encoded data removed]",
      "text/plain": [
       "<Figure size 432x288 with 1 Axes>"
      ]
     },
     "metadata": {
      "needs_background": "light"
     },
     "output_type": "display_data"
    }
   ],
   "source": [
    "import matplotlib.pyplot as plt\n",
    "\n",
    "plt.scatter(x,y)"
   ]
  },
  {
   "cell_type": "code",
   "execution_count": 34,
   "metadata": {},
   "outputs": [
    {
     "data": {
      "text/plain": [
       "<matplotlib.collections.PathCollection at 0x7f7eb38b2970>"
      ]
     },
     "execution_count": 34,
     "metadata": {},
     "output_type": "execute_result"
    },
    {
     "data": {
      "image/png": "[encoded data removed]",
      "text/plain": [
       "<Figure size 432x288 with 1 Axes>"
      ]
     },
     "metadata": {
      "needs_background": "light"
     },
     "output_type": "display_data"
    }
   ],
   "source": [
    "import numpy as np\n",
    "np.random.seed(0)\n",
    "\n",
    "x2 = np.arange(140,165,3) \n",
    "x2 = x + np.random.rand(len(x)) *5\n",
    "\n",
    "y2=-1.5*50*x/x.mean() + np.random.rand(len(x)) *5\n",
    "\n",
    "plt.scatter(x2, y2)\n"
   ]
  },
  {
   "cell_type": "code",
   "execution_count": 50,
   "metadata": {},
   "outputs": [
    {
     "data": {
      "text/plain": [
       "<matplotlib.collections.PathCollection at 0x7f7eb326a9d0>"
      ]
     },
     "execution_count": 50,
     "metadata": {},
     "output_type": "execute_result"
    },
    {
     "data": {
      "image/png": "[encoded data removed]",
      "text/plain": [
       "<Figure size 432x288 with 1 Axes>"
      ]
     },
     "metadata": {
      "needs_background": "light"
     },
     "output_type": "display_data"
    }
   ],
   "source": [
    "import numpy as np\n",
    " \n",
    "x3 = np.arange(120,165,2) \n",
    "x3 = x3 + np.random.rand(len(x3)) *55\n",
    "\n",
    "y3=-1.5*50*x3/x.mean() + np.random.rand(len(x3)) *55\n",
    "\n",
    "plt.scatter(x3, y3)\n"
   ]
  },
  {
   "cell_type": "code",
   "execution_count": 66,
   "metadata": {},
   "outputs": [
    {
     "name": "stdout",
     "output_type": "stream",
     "text": [
      "8.205698261002365 8.205698261002365\n",
      "3.9205095410837068\n"
     ]
    }
   ],
   "source": [
    "sx = np.sqrt(((x - np.ones(len(x))*x.mean())**2).sum()/(len(x)))\n",
    "print(sx, x.std())\n",
    "print(y.std())"
   ]
  },
  {
   "cell_type": "code",
   "execution_count": 68,
   "metadata": {},
   "outputs": [
    {
     "name": "stdout",
     "output_type": "stream",
     "text": [
      "0.9134459103067405\n"
     ]
    }
   ],
   "source": [
    "print(cov/(y.std()*x.std()))"
   ]
  }
 ],
 "metadata": {
  "interpreter": {
   "hash": "ff93bb57c6eadbb0cb83b1f0ef27f8c7171cef50d76dece0643d17c329a577d0"
  },
  "kernelspec": {
   "display_name": "Python 3.8.10 64-bit ('clases_fundamentos_de_la_medida-cDcOHMVf': virtualenv)",
   "name": "python3"
  },
  "language_info": {
   "codemirror_mode": {
    "name": "ipython",
    "version": 3
   },
   "file_extension": ".py",
   "mimetype": "text/x-python",
   "name": "python",
   "nbconvert_exporter": "python",
   "pygments_lexer": "ipython3",
   "version": "3.8.10"
  },
  "orig_nbformat": 4
 },
 "nbformat": 4,
 "nbformat_minor": 2
}
