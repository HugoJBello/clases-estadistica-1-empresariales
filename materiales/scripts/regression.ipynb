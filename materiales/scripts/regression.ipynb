{
 "cells": [
  {
   "cell_type": "code",
   "execution_count": 1,
   "metadata": {},
   "outputs": [
    {
     "name": "stdout",
     "output_type": "stream",
     "text": [
      "0.0014207346749434593\n",
      "-0.00013895164779443073\n",
      "0.0004147069510831904\n",
      "0.002073384919692692\n",
      "0.0010673584495176852\n",
      "-0.0009759132845697291\n",
      "-0.00023516830171270135\n",
      "0.0006126226551196432\n",
      "0.00015807825609489033\n",
      "[ 5.70724375e-02 -1.01707700e-02  7.46614601e-02  1.67292635e+00\n",
      "  1.72977902e+01 -1.29154629e+02 -7.65495358e+01  8.93713986e+02\n",
      "  1.03352113e+03]\n"
     ]
    },
    {
     "data": {
      "image/png": "[encoded data removed]",
      "text/plain": [
       "<Figure size 432x288 with 1 Axes>"
      ]
     },
     "metadata": {
      "needs_background": "light"
     },
     "output_type": "display_data"
    }
   ],
   "source": [
    "import numpy as np\n",
    "\n",
    "import matplotlib.pyplot as plt\n",
    "\n",
    "\n",
    "x = np.array([1,\t\n",
    "1.2,\n",
    "1.5,\n",
    "2 ,\t\n",
    "3  ,\n",
    "3.7,\n",
    "4 ,\t\n",
    "4.5,\n",
    "5])\n",
    "\n",
    "\n",
    "y = []\n",
    "\n",
    "for x_item in x:\n",
    "    r = np.random.normal(0, 0.001, 1)[0]\n",
    "    print(r)\n",
    "    y_item = 2*np.e**(x_item*3) *r\n",
    "    y.append(y_item)\n",
    "\n",
    "y = np.array(y)\n",
    "plt.scatter(x,y)\n",
    "print(y)"
   ]
  },
  {
   "cell_type": "code",
   "execution_count": 58,
   "metadata": {},
   "outputs": [
    {
     "name": "stdout",
     "output_type": "stream",
     "text": [
      "[0.0556121024, 0.0201535737, 0.0837330281, 0.567639629, 10.7997544, 29.6637684, 43.2774953, 1978.4904, 9171.46857]\n",
      "0.06\n",
      "0.02\n",
      "0.08\n",
      "0.57\n",
      "10.8\n",
      "29.66\n",
      "43.28\n",
      "1978.49\n",
      "9171.47\n"
     ]
    },
    {
     "data": {
      "image/png": "[encoded data removed]",
      "text/plain": [
       "<Figure size 432x288 with 1 Axes>"
      ]
     },
     "metadata": {
      "needs_background": "light"
     },
     "output_type": "display_data"
    }
   ],
   "source": [
    "import matplotlib.pyplot as plt\n",
    "\n",
    "\n",
    "x = np.array([1,\t\n",
    "1.2,\n",
    "1.5,\n",
    "2 ,\t\n",
    "3  ,\n",
    "3.7,\n",
    "4 ,\t\n",
    "4.5,\n",
    "5])\n",
    "\n",
    "y = [ 5.56121024e-02,  \n",
    "               2.01535737e-02 , \n",
    "               8.37330281e-02 , \n",
    "               5.67639629e-01,\n",
    "              1.07997544e+01 ,\n",
    "              2.96637684e+01 , \n",
    "              4.32774953e+01  ,\n",
    "              1.97849040e+03,\n",
    "              9.17146857e+03]\n",
    "\n",
    "plt.scatter(x,y)\n",
    "print(y)\n",
    "\n",
    "y = [round(item, 2) for item in y]\n",
    "y = np.array(y)\n",
    "\n",
    "for item in y:\n",
    "    print(item)"
   ]
  },
  {
   "cell_type": "code",
   "execution_count": 3,
   "metadata": {},
   "outputs": [
    {
     "data": {
      "text/plain": [
       "array([-2.81, -3.91, -2.53, -0.56,  2.38,  3.39,  3.77,  7.59,  9.12])"
      ]
     },
     "execution_count": 3,
     "metadata": {},
     "output_type": "execute_result"
    }
   ],
   "source": [
    "z = np.log(y)\n",
    "\n",
    "z = [round(item, 2) for item in z]\n",
    "\n",
    "z = np.array(z)\n",
    "z"
   ]
  },
  {
   "cell_type": "code",
   "execution_count": 4,
   "metadata": {},
   "outputs": [
    {
     "data": {
      "text/plain": [
       "<matplotlib.collections.PathCollection at 0x7f259c089370>"
      ]
     },
     "execution_count": 4,
     "metadata": {},
     "output_type": "execute_result"
    },
    {
     "data": {
      "image/png": "[encoded data removed]",
      "text/plain": [
       "<Figure size 432x288 with 1 Axes>"
      ]
     },
     "metadata": {
      "needs_background": "light"
     },
     "output_type": "display_data"
    }
   ],
   "source": [
    "plt.scatter(x,z)"
   ]
  },
  {
   "cell_type": "code",
   "execution_count": 5,
   "metadata": {},
   "outputs": [
    {
     "name": "stdout",
     "output_type": "stream",
     "text": [
      "1.0\n",
      "1.44\n",
      "2.25\n",
      "4.0\n",
      "9.0\n",
      "13.69\n",
      "16.0\n",
      "20.25\n",
      "25.0\n",
      "--\n",
      "7.9\n",
      "15.29\n",
      "6.4\n",
      "0.31\n",
      "5.66\n",
      "11.49\n",
      "14.21\n",
      "57.61\n",
      "83.17\n",
      "--\n",
      "-2.81\n",
      "-4.69\n",
      "-3.8\n",
      "-1.12\n",
      "7.14\n",
      "12.54\n",
      "15.08\n",
      "34.16\n",
      "45.6\n",
      "--\n"
     ]
    }
   ],
   "source": [
    "for item in x**2:\n",
    "    print(round(item, 2))\n",
    "\n",
    "print(\"--\")\n",
    "\n",
    "for item in z**2:\n",
    "    print(round(item, 2))\n",
    "print(\"--\")  \n",
    "\n",
    "for item in x*z:\n",
    "    print(round(item, 2))\n",
    "print(\"--\")    \n"
   ]
  },
  {
   "cell_type": "code",
   "execution_count": 7,
   "metadata": {},
   "outputs": [
    {
     "name": "stdout",
     "output_type": "stream",
     "text": [
      "25.9\n",
      "11234.43\n",
      "16.44\n",
      "92.63\n",
      "202.05\n",
      "102.1\n"
     ]
    }
   ],
   "source": [
    "for v in [x, y, z, x**2, z**2, x*z]:\n",
    "    print(round(v.sum(),2))"
   ]
  },
  {
   "cell_type": "code",
   "execution_count": 22,
   "metadata": {},
   "outputs": [
    {
     "data": {
      "text/plain": [
       "1.8266666666666664"
      ]
     },
     "execution_count": 22,
     "metadata": {},
     "output_type": "execute_result"
    }
   ],
   "source": [
    "z_mean = z.mean()\n",
    "z_mean"
   ]
  },
  {
   "cell_type": "code",
   "execution_count": 42,
   "metadata": {},
   "outputs": [
    {
     "name": "stdout",
     "output_type": "stream",
     "text": [
      "2.88\n",
      "1248.27\n",
      "1.83\n",
      "10.29\n",
      "22.45\n",
      "11.34\n"
     ]
    }
   ],
   "source": [
    "for v in [x, y, z, x**2, z**2, x*z]:\n",
    "    print(round(v.sum()/len(x),2))"
   ]
  },
  {
   "cell_type": "code",
   "execution_count": 15,
   "metadata": {},
   "outputs": [
    {
     "data": {
      "text/plain": [
       "6.087814814814815"
      ]
     },
     "execution_count": 15,
     "metadata": {},
     "output_type": "execute_result"
    }
   ],
   "source": [
    "sxz = (x*z).sum()/len(x) - (x.sum()/len(x))*(z.sum()/len(z))\n",
    "sxz"
   ]
  },
  {
   "cell_type": "code",
   "execution_count": 16,
   "metadata": {},
   "outputs": [
    {
     "data": {
      "text/plain": [
       "1.8266666666666664"
      ]
     },
     "execution_count": 16,
     "metadata": {},
     "output_type": "execute_result"
    }
   ],
   "source": [
    "mean_z = (z.sum()/len(z))\n",
    "mean_z"
   ]
  },
  {
   "cell_type": "code",
   "execution_count": 59,
   "metadata": {},
   "outputs": [
    {
     "data": {
      "text/plain": [
       "2.0106172839506176"
      ]
     },
     "execution_count": 59,
     "metadata": {},
     "output_type": "execute_result"
    }
   ],
   "source": [
    "sx2 = (x*x).mean() - (x.mean())**2\n",
    "sx2"
   ]
  },
  {
   "cell_type": "code",
   "execution_count": 20,
   "metadata": {},
   "outputs": [
    {
     "data": {
      "text/plain": [
       "2.0106172839506176"
      ]
     },
     "execution_count": 20,
     "metadata": {},
     "output_type": "execute_result"
    }
   ],
   "source": [
    "sx = ((x- x.mean())**2).mean()\n",
    "sx"
   ]
  },
  {
   "cell_type": "code",
   "execution_count": 24,
   "metadata": {},
   "outputs": [
    {
     "name": "stdout",
     "output_type": "stream",
     "text": [
      "3.0278337222153993 -6.886765933930983\n"
     ]
    }
   ],
   "source": [
    "x_mean = x.mean()\n",
    "b = sxz/sx2\n",
    "lna_2 = z_mean - x_mean * sxz/sx2\n",
    "print(b,lna_2)"
   ]
  },
  {
   "cell_type": "code",
   "execution_count": 9,
   "metadata": {},
   "outputs": [
    {
     "data": {
      "text/plain": [
       "-6.891641791044776"
      ]
     },
     "execution_count": 9,
     "metadata": {},
     "output_type": "execute_result"
    }
   ],
   "source": [
    "lna = 1.82 - (6.08/2.01)*2.88\n",
    "lna"
   ]
  },
  {
   "cell_type": "code",
   "execution_count": 25,
   "metadata": {},
   "outputs": [
    {
     "name": "stdout",
     "output_type": "stream",
     "text": [
      "[6.00000e-02 2.00000e-02 8.00000e-02 5.70000e-01 1.08000e+01 2.96600e+01\n",
      " 4.32800e+01 1.97849e+03 9.17147e+03]\n",
      "[2.10905077e-02 3.86439338e-02 9.58457308e-02 4.35570554e-01\n",
      " 8.99559698e+00 7.49048647e+01 1.85781073e+02 8.44281370e+02\n",
      " 3.83683343e+03]\n",
      "0.0010212111706267768\n",
      "3.0278337222153993\n"
     ]
    },
    {
     "data": {
      "image/png": "[encoded data removed]",
      "text/plain": [
       "<Figure size 432x288 with 1 Axes>"
      ]
     },
     "metadata": {
      "needs_background": "light"
     },
     "output_type": "display_data"
    }
   ],
   "source": [
    "a = np.exp(lna_2)\n",
    "\n",
    "simulated_y = a * np.exp(b*x)\n",
    "\n",
    "plt.scatter(x,y)\n",
    "\n",
    "plt.plot(x,simulated_y)\n",
    "print(y)\n",
    "print(simulated_y)\n",
    "\n",
    "print(a)\n",
    "print(b)\n",
    "\n",
    "\n"
   ]
  },
  {
   "cell_type": "code",
   "execution_count": 29,
   "metadata": {},
   "outputs": [
    {
     "name": "stdout",
     "output_type": "stream",
     "text": [
      "-0.004671644603996537\n",
      "-0.0025300896002831137\n",
      "0.023674110653016278\n",
      "0.013078083469356041\n",
      "0.006550306817492562\n",
      "0.016613601198173268\n",
      "[3.17707314e-02 8.71036918e-02 7.55638800e-01 8.89544130e+01\n",
      " 5.38070272e+02 3.25511244e+03]\n"
     ]
    },
    {
     "data": {
      "image/png": "[encoded data removed]",
      "text/plain": [
       "<Figure size 432x288 with 1 Axes>"
      ]
     },
     "metadata": {
      "needs_background": "light"
     },
     "output_type": "display_data"
    }
   ],
   "source": [
    "import numpy as np\n",
    "\n",
    "import matplotlib.pyplot as plt\n",
    "\n",
    "\n",
    "x = np.array([2, 5, 12, 28, 34,40])\n",
    "\n",
    "\n",
    "y = []\n",
    "\n",
    "for x_item in x:\n",
    "    r = np.random.normal(0, 0.01, 1)[0]\n",
    "    print(r)\n",
    "    y_item = 0.02*np.e**(x_item*0.3) +r\n",
    "    y.append(y_item)\n",
    "\n",
    "y = np.array(y)\n",
    "plt.scatter(x,y)\n",
    "print(y)"
   ]
  },
  {
   "cell_type": "code",
   "execution_count": 36,
   "metadata": {},
   "outputs": [
    {
     "name": "stdout",
     "output_type": "stream",
     "text": [
      "0.0317707314\n",
      "0.0871036918\n",
      "0.7556388\n",
      "88.954413\n",
      "538.070272\n",
      "3255.11244\n"
     ]
    },
    {
     "data": {
      "text/plain": [
       "<matplotlib.collections.PathCollection at 0x7f255e3bf490>"
      ]
     },
     "execution_count": 36,
     "metadata": {},
     "output_type": "execute_result"
    },
    {
     "data": {
      "image/png": "[encoded data removed]",
      "text/plain": [
       "<Figure size 432x288 with 1 Axes>"
      ]
     },
     "metadata": {
      "needs_background": "light"
     },
     "output_type": "display_data"
    }
   ],
   "source": [
    "\n",
    "y = [3.17707314e-02, 8.71036918e-02, 7.55638800e-01, 8.89544130e+01,\n",
    " 5.38070272e+02, 3.25511244e+03]\n",
    "\n",
    "for item in y:\n",
    "    print(item)\n",
    "    \n",
    "y = np.array([0.0317707314,\n",
    "0.0871036918,\n",
    "0.7556388,\n",
    "88.954413,\n",
    "538.070272,\n",
    "3255.11244           ])\n",
    "plt.scatter(x,y)\n",
    "\n"
   ]
  },
  {
   "cell_type": "code",
   "execution_count": 57,
   "metadata": {},
   "outputs": [
    {
     "name": "stdout",
     "output_type": "stream",
     "text": [
      "212.13888888888886 212.1388888888889\n",
      "[3.17707314e-02 8.71036918e-02 7.55638800e-01 8.89544130e+01\n",
      " 5.38070272e+02 3.25511244e+03]\n",
      "[ 2  5 12 28 34 40]\n",
      "[-3.44920981 -2.44065601 -0.28019179  4.48812403  6.28798917  8.0879821 ]\n",
      "covariances\n",
      "64.08632677517653\n",
      "64.08632677517653\n",
      "0.3020960801239172\n",
      "-3.976598002945315\n",
      "a y b 0.01874931608035607 0.3020960801239172\n",
      "[3.17707314e-02 8.71036918e-02 7.55638800e-01 8.89544130e+01\n",
      " 5.38070272e+02 3.25511244e+03]\n",
      "[3.43070007e-02 8.49138894e-02 7.03670522e-01 8.84194741e+01\n",
      " 5.41676371e+02 3.31842384e+03]\n",
      "0.01874931608035607\n",
      "0.3020960801239172\n"
     ]
    },
    {
     "data": {
      "image/png": "[encoded data removed]",
      "text/plain": [
       "<Figure size 432x288 with 1 Axes>"
      ]
     },
     "metadata": {
      "needs_background": "light"
     },
     "output_type": "display_data"
    }
   ],
   "source": [
    "sx2 = (x*x).mean() - x.mean()**2\n",
    "print(sx2, ((x-x.mean())*(x-x.mean())).mean())\n",
    "z = np.log(y)\n",
    "print(y)\n",
    "print(x)\n",
    "print(z)\n",
    "\n",
    "sxz = (z*x).mean() - x.mean()*z.mean()\n",
    "print(\"covariances\")\n",
    "print(sxz)\n",
    "print(((x-x.mean())*(z-z.mean())).mean())\n",
    "\n",
    "b = sxz/sx2\n",
    "print(b)\n",
    "\n",
    "lna = z.mean() - b*x.mean()\n",
    "print(lna)\n",
    "\n",
    "\n",
    "a = np.exp(lna)\n",
    "\n",
    "print(\"a y b\", a, b)\n",
    "\n",
    "simulated_y = a * np.exp(b*x)\n",
    "\n",
    "plt.scatter(x,y)\n",
    "plt.scatter(x,simulated_y)\n",
    "\n",
    "plt.plot(x,simulated_y)\n",
    "print(y)\n",
    "print(simulated_y)\n",
    "\n",
    "print(a)\n",
    "print(b)\n",
    "\n"
   ]
  }
 ],
 "metadata": {
  "kernelspec": {
   "display_name": "Python 3.8.10 ('clases-estadistica-1-empresariales-yTf3VkUW')",
   "language": "python",
   "name": "python3"
  },
  "language_info": {
   "codemirror_mode": {
    "name": "ipython",
    "version": 3
   },
   "file_extension": ".py",
   "mimetype": "text/x-python",
   "name": "python",
   "nbconvert_exporter": "python",
   "pygments_lexer": "ipython3",
   "version": "3.8.10"
  },
  "orig_nbformat": 4,
  "vscode": {
   "interpreter": {
    "hash": "43e6ebcaa400c1cb7b7c40a139a553df1eb7d74efa216d92285ed302ffc918e7"
   }
  }
 },
 "nbformat": 4,
 "nbformat_minor": 2
}
