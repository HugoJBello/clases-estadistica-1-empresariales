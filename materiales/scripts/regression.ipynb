{
 "cells": [
  {
   "cell_type": "code",
   "execution_count": 20,
   "metadata": {},
   "outputs": [
    {
     "name": "stdout",
     "output_type": "stream",
     "text": [
      "0.0013843817730326258\n",
      "0.0002753353267039202\n",
      "0.00046509495979409353\n",
      "0.0007035189827344147\n",
      "-0.0006663977854569127\n",
      "-0.0004508290944085921\n",
      "0.0001329530605188631\n",
      "0.0013562146942281178\n",
      "0.0014027867584315429\n",
      "[ 5.56121024e-02  2.01535737e-02  8.37330281e-02  5.67639629e-01\n",
      " -1.07997544e+01 -5.96637684e+01  4.32774953e+01  1.97849040e+03\n",
      "  9.17146857e+03]\n"
     ]
    },
    {
     "data": {
      "image/png": "[encoded data removed]",
      "text/plain": [
       "<Figure size 432x288 with 1 Axes>"
      ]
     },
     "metadata": {
      "needs_background": "light"
     },
     "output_type": "display_data"
    }
   ],
   "source": [
    "import numpy as np\n",
    "\n",
    "import matplotlib.pyplot as plt\n",
    "\n",
    "\n",
    "x = np.array([1,\t\n",
    "1.2,\n",
    "1.5,\n",
    "2 ,\t\n",
    "3  ,\n",
    "3.7,\n",
    "4 ,\t\n",
    "4.5,\n",
    "5])\n",
    "\n",
    "\n",
    "y = []\n",
    "\n",
    "for x_item in x:\n",
    "    r = np.random.normal(0, 0.001, 1)[0]\n",
    "    print(r)\n",
    "    y_item = 2*np.e**(x_item*3) *r\n",
    "    y.append(y_item)\n",
    "\n",
    "y = np.array(y)\n",
    "plt.scatter(x,y)\n",
    "print(y)"
   ]
  },
  {
   "cell_type": "code",
   "execution_count": 30,
   "metadata": {},
   "outputs": [
    {
     "name": "stdout",
     "output_type": "stream",
     "text": [
      "[0.0556121024, 0.0201535737, 0.0837330281, 0.567639629, 10.7997544, 29.6637684, 43.2774953, 1978.4904, 9171.46857]\n",
      "0.06\n",
      "0.02\n",
      "0.08\n",
      "0.57\n",
      "10.8\n",
      "29.66\n",
      "43.28\n",
      "1978.49\n",
      "9171.47\n"
     ]
    },
    {
     "data": {
      "image/png": "[encoded data removed]",
      "text/plain": [
       "<Figure size 432x288 with 1 Axes>"
      ]
     },
     "metadata": {
      "needs_background": "light"
     },
     "output_type": "display_data"
    }
   ],
   "source": [
    "import matplotlib.pyplot as plt\n",
    "\n",
    "\n",
    "x = np.array([1,\t\n",
    "1.2,\n",
    "1.5,\n",
    "2 ,\t\n",
    "3  ,\n",
    "3.7,\n",
    "4 ,\t\n",
    "4.5,\n",
    "5])\n",
    "\n",
    "y = [ 5.56121024e-02,  \n",
    "               2.01535737e-02 , \n",
    "               8.37330281e-02 , \n",
    "               5.67639629e-01,\n",
    "              1.07997544e+01 ,\n",
    "              2.96637684e+01 , \n",
    "              4.32774953e+01  ,\n",
    "              1.97849040e+03,\n",
    "              9.17146857e+03]\n",
    "\n",
    "plt.scatter(x,y)\n",
    "print(y)\n",
    "\n",
    "y = [round(item, 2) for item in y]\n",
    "y = np.array(y)\n",
    "\n",
    "for item in y:\n",
    "    print(item)"
   ]
  },
  {
   "cell_type": "code",
   "execution_count": 37,
   "metadata": {},
   "outputs": [
    {
     "data": {
      "text/plain": [
       "array([-2.81, -3.91, -2.53, -0.56,  2.38,  3.39,  3.77,  7.59,  9.12])"
      ]
     },
     "execution_count": 37,
     "metadata": {},
     "output_type": "execute_result"
    }
   ],
   "source": [
    "z = np.log(y)\n",
    "\n",
    "z = [round(item, 2) for item in z]\n",
    "\n",
    "z = np.array(z)\n",
    "z"
   ]
  },
  {
   "cell_type": "code",
   "execution_count": 32,
   "metadata": {},
   "outputs": [
    {
     "data": {
      "text/plain": [
       "<matplotlib.collections.PathCollection at 0x7fd37064c5b0>"
      ]
     },
     "execution_count": 32,
     "metadata": {},
     "output_type": "execute_result"
    },
    {
     "data": {
      "image/png": "[encoded data removed]",
      "text/plain": [
       "<Figure size 432x288 with 1 Axes>"
      ]
     },
     "metadata": {
      "needs_background": "light"
     },
     "output_type": "display_data"
    }
   ],
   "source": [
    "plt.scatter(x,z)"
   ]
  },
  {
   "cell_type": "code",
   "execution_count": 38,
   "metadata": {},
   "outputs": [
    {
     "name": "stdout",
     "output_type": "stream",
     "text": [
      "1.0\n",
      "1.44\n",
      "2.25\n",
      "4.0\n",
      "9.0\n",
      "13.69\n",
      "16.0\n",
      "20.25\n",
      "25.0\n",
      "--\n",
      "7.9\n",
      "15.29\n",
      "6.4\n",
      "0.31\n",
      "5.66\n",
      "11.49\n",
      "14.21\n",
      "57.61\n",
      "83.17\n",
      "--\n",
      "-2.81\n",
      "-4.69\n",
      "-3.8\n",
      "-1.12\n",
      "7.14\n",
      "12.54\n",
      "15.08\n",
      "34.16\n",
      "45.6\n",
      "--\n"
     ]
    }
   ],
   "source": [
    "for item in x**2:\n",
    "    print(round(item, 2))\n",
    "\n",
    "print(\"--\")\n",
    "\n",
    "for item in z**2:\n",
    "    print(round(item, 2))\n",
    "print(\"--\")  \n",
    "\n",
    "for item in x*z:\n",
    "    print(round(item, 2))\n",
    "print(\"--\")    \n"
   ]
  },
  {
   "cell_type": "code",
   "execution_count": 41,
   "metadata": {},
   "outputs": [
    {
     "name": "stdout",
     "output_type": "stream",
     "text": [
      "25.9\n",
      "11234.43\n",
      "16.44\n",
      "92.63\n",
      "202.05\n",
      "102.1\n"
     ]
    }
   ],
   "source": [
    "for v in [x, y, z, x**2, z**2, x*z]:\n",
    "    print(round(v.sum(),2))"
   ]
  },
  {
   "cell_type": "code",
   "execution_count": 42,
   "metadata": {},
   "outputs": [
    {
     "name": "stdout",
     "output_type": "stream",
     "text": [
      "2.88\n",
      "1248.27\n",
      "1.83\n",
      "10.29\n",
      "22.45\n",
      "11.34\n"
     ]
    }
   ],
   "source": [
    "for v in [x, y, z, x**2, z**2, x*z]:\n",
    "    print(round(v.sum()/len(x),2))"
   ]
  },
  {
   "cell_type": "code",
   "execution_count": 43,
   "metadata": {},
   "outputs": [
    {
     "data": {
      "text/plain": [
       "6.087814814814815"
      ]
     },
     "execution_count": 43,
     "metadata": {},
     "output_type": "execute_result"
    }
   ],
   "source": [
    "(x*z).sum()/len(x) - (x.sum()/len(x))*(z.sum()/len(z))"
   ]
  },
  {
   "cell_type": "code",
   "execution_count": 45,
   "metadata": {},
   "outputs": [
    {
     "data": {
      "text/plain": [
       "1.8266666666666664"
      ]
     },
     "execution_count": 45,
     "metadata": {},
     "output_type": "execute_result"
    }
   ],
   "source": [
    "(z.sum()/len(z))"
   ]
  },
  {
   "cell_type": "code",
   "execution_count": 46,
   "metadata": {},
   "outputs": [
    {
     "data": {
      "text/plain": [
       "2.0106172839506176"
      ]
     },
     "execution_count": 46,
     "metadata": {},
     "output_type": "execute_result"
    }
   ],
   "source": [
    "(x*x).sum()/len(x) - (x.sum()/len(x))**2"
   ]
  },
  {
   "cell_type": "code",
   "execution_count": 48,
   "metadata": {},
   "outputs": [
    {
     "data": {
      "text/plain": [
       "2.0106172839506176"
      ]
     },
     "execution_count": 48,
     "metadata": {},
     "output_type": "execute_result"
    }
   ],
   "source": [
    "((x- x.mean())**2).mean()"
   ]
  },
  {
   "cell_type": "code",
   "execution_count": 51,
   "metadata": {},
   "outputs": [],
   "source": [
    "lna = 1.82 - (6.08/2.01)*2.88"
   ]
  },
  {
   "cell_type": "code",
   "execution_count": 54,
   "metadata": {},
   "outputs": [
    {
     "name": "stdout",
     "output_type": "stream",
     "text": [
      "[6.00000e-02 2.00000e-02 8.00000e-02 5.70000e-01 1.08000e+01 2.96600e+01\n",
      " 4.32800e+01 1.97849e+03 9.17147e+03]\n"
     ]
    },
    {
     "data": {
      "image/png": "[encoded data removed]",
      "text/plain": [
       "<Figure size 432x288 with 1 Axes>"
      ]
     },
     "metadata": {
      "needs_background": "light"
     },
     "output_type": "display_data"
    }
   ],
   "source": [
    "a = np.exp(lna)\n",
    "b = 6.08/2.01\n",
    "\n",
    "simulated_y = a * np.exp(b*x)\n",
    "\n",
    "plt.scatter(x,y)\n",
    "plt.plot(x,simulated_y)\n",
    "print(y)\n",
    "\n",
    "\n"
   ]
  }
 ],
 "metadata": {
  "interpreter": {
   "hash": "43e6ebcaa400c1cb7b7c40a139a553df1eb7d74efa216d92285ed302ffc918e7"
  },
  "kernelspec": {
   "display_name": "Python 3.8.10 ('clases-estadistica-1-empresariales-yTf3VkUW')",
   "language": "python",
   "name": "python3"
  },
  "language_info": {
   "codemirror_mode": {
    "name": "ipython",
    "version": 3
   },
   "file_extension": ".py",
   "mimetype": "text/x-python",
   "name": "python",
   "nbconvert_exporter": "python",
   "pygments_lexer": "ipython3",
   "version": "3.8.10"
  },
  "orig_nbformat": 4
 },
 "nbformat": 4,
 "nbformat_minor": 2
}
