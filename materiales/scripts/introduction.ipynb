{
 "cells": [
  {
   "cell_type": "code",
   "execution_count": 1,
   "metadata": {},
   "outputs": [
    {
     "name": "stdout",
     "output_type": "stream",
     "text": [
      "[ 3000  5950  7600 10500 13800 21250 17550 14500 13950 11550  3500  1850]\n",
      "125000\n",
      "1250.0\n"
     ]
    }
   ],
   "source": [
    "import numpy as np\n",
    "\n",
    "\n",
    "\n",
    "x = np.array([750 , 850 , 950 , 1050, 1150, 1250, 1350, 1450, 1550, 1650, 1750, 1850])\n",
    "\n",
    "n = np.array([  4,  7,  8, 10, 12, 17, 13, 10,  9,  7,  2,  1])\n",
    "\n",
    "print(x*n)\n",
    "print((x*n).sum())\n",
    "print(125000/100)"
   ]
  },
  {
   "cell_type": "code",
   "execution_count": 19,
   "metadata": {},
   "outputs": [
    {
     "name": "stdout",
     "output_type": "stream",
     "text": [
      "[ 2 10 15 12 15  6  7]\n",
      "3.35\n",
      "[ 2 20 45 48 75 36 49]\n",
      "275\n",
      "13.75\n",
      "2.5275\n",
      "1.5898113095584645\n",
      "[4.7  6.75 1.75 1.95 4.95 2.65 3.65]\n",
      "26.399999999999995\n",
      "1.3199999999999998\n"
     ]
    }
   ],
   "source": [
    "x = np.array([1,2,3,4,5,6,7])\n",
    "n = np.array([\n",
    "    2,5,5,3,3,1,1,\n",
    "])\n",
    "print(x*n)\n",
    "print((x*n).sum()/20)\n",
    "print(x*x*n)\n",
    "print((x*x*n).sum())\n",
    "print((x*x*n).sum()/20)\n",
    "print(13.75-3.35**2)\n",
    "print(np.sqrt(2.5275))\n",
    "\n",
    "print(np.abs(x-3.35)*n)\n",
    "print((np.abs(x-3.35)*n).sum())\n",
    "print((np.abs(x-3.35)*n).sum()/20)\n"
   ]
  },
  {
   "cell_type": "code",
   "execution_count": 10,
   "metadata": {},
   "outputs": [
    {
     "name": "stdout",
     "output_type": "stream",
     "text": [
      "8\n"
     ]
    }
   ],
   "source": [
    "print(2**3)"
   ]
  },
  {
   "cell_type": "code",
   "execution_count": 35,
   "metadata": {},
   "outputs": [
    {
     "data": {
      "text/plain": [
       "Text(0.5, 1.0, 'Histograma')"
      ]
     },
     "execution_count": 35,
     "metadata": {},
     "output_type": "execute_result"
    },
    {
     "data": {
      "image/png": "[encoded data removed]",
      "text/plain": [
       "<Figure size 432x288 with 1 Axes>"
      ]
     },
     "metadata": {
      "needs_background": "light"
     },
     "output_type": "display_data"
    }
   ],
   "source": [
    "\n",
    "x = np.array([1,1,\n",
    "2,2,2,2,2,\n",
    "3,3,3,3,3,\n",
    "4,4,4,\n",
    "5,5,\n",
    "6,\n",
    "7,])\n",
    "\n",
    "import matplotlib.pyplot as plt\n",
    "\n",
    "# An \"interface\" to matplotlib.axes.Axes.hist() method\n",
    "n, bins, patches = plt.hist(x=x,color='#0504aa',\n",
    "                            alpha=0.7, rwidth=0.5)\n",
    "plt.grid(axis='y', alpha=0.75)\n",
    "plt.xlabel('Valores')\n",
    "plt.ylabel('Frecuencia')\n",
    "plt.title('Histograma')\n"
   ]
  },
  {
   "cell_type": "code",
   "execution_count": 44,
   "metadata": {},
   "outputs": [
    {
     "data": {
      "image/png": "[encoded data removed]",
      "text/plain": [
       "<Figure size 432x288 with 1 Axes>"
      ]
     },
     "metadata": {
      "needs_background": "light"
     },
     "output_type": "display_data"
    }
   ],
   "source": [
    "import numpy as np\n",
    "import matplotlib.pyplot as plt\n",
    "\n",
    "\n",
    "labels, counts = np.unique(x, return_counts=True)\n",
    "plt.bar(labels, counts, align='center')\n",
    "plt.gca().set_xticks(labels)\n",
    "plt.savefig('histograma.png')\n",
    "plt.show()\n"
   ]
  },
  {
   "cell_type": "code",
   "execution_count": 43,
   "metadata": {},
   "outputs": [
    {
     "data": {
      "image/png": "[encoded data removed]",
      "text/plain": [
       "<Figure size 432x288 with 1 Axes>"
      ]
     },
     "metadata": {
      "needs_background": "light"
     },
     "output_type": "display_data"
    }
   ],
   "source": [
    "labels = [\n",
    "    \"[700, 800)  \",\n",
    "    \"[800, 900)  \",\n",
    "    \"[900, 1000) \",\n",
    "    \"[1000, 1100)\",\n",
    "    \"[1100, 1200)\",\n",
    "    \"[1200, 1300)\",\n",
    "    \"[1300, 1400)\",\n",
    "    \"[1400, 1500)\",\n",
    "    \"[1500, 1600)\",\n",
    "    \"[1600, 1700)\",\n",
    "    \"[1700, 1800)\",\n",
    "    \"[1800, 1900)\",\n",
    "]\n",
    "\n",
    "counts = [\n",
    "      4,\n",
    "      7,\n",
    "      8,\n",
    "     10,\n",
    "     12,\n",
    "     17,\n",
    "     13,\n",
    "     10,\n",
    "      9,\n",
    "      7,\n",
    "      2,\n",
    "      1,\n",
    "]\n",
    "\n",
    "plt.bar(labels, counts, align='center')\n",
    "plt.gca().set_xticks(labels)\n",
    "plt.xticks(rotation=30)\n",
    "plt.savefig('histograma2.png')\n",
    "plt.show()\n"
   ]
  },
  {
   "cell_type": "code",
   "execution_count": 30,
   "metadata": {},
   "outputs": [
    {
     "data": {
      "image/png": "[encoded data removed]",
      "text/plain": [
       "<Figure size 432x288 with 1 Axes>"
      ]
     },
     "metadata": {
      "needs_background": "light"
     },
     "output_type": "display_data"
    }
   ],
   "source": [
    "import pandas as pd\n",
    "# Generate data on commute times.\n",
    "size, scale = 1000, 10\n",
    "commutes = pd.Series(np.random.gamma(scale, size=size) ** 1.5)\n",
    "commutes = pd.Series(x)\n",
    "\n",
    "commutes.plot.hist(grid=False, \n",
    "                   color='#607c8e')\n",
    "plt.title('Commute Times for 1,000 Commuters')\n",
    "plt.xlabel('Counts')\n",
    "plt.ylabel('Commute Time')\n",
    "plt.grid(axis='y', alpha=0.75)"
   ]
  }
 ],
 "metadata": {
  "interpreter": {
   "hash": "43e6ebcaa400c1cb7b7c40a139a553df1eb7d74efa216d92285ed302ffc918e7"
  },
  "kernelspec": {
   "display_name": "Python 3.8.10 ('clases-estadistica-1-empresariales-yTf3VkUW')",
   "language": "python",
   "name": "python3"
  },
  "language_info": {
   "codemirror_mode": {
    "name": "ipython",
    "version": 3
   },
   "file_extension": ".py",
   "mimetype": "text/x-python",
   "name": "python",
   "nbconvert_exporter": "python",
   "pygments_lexer": "ipython3",
   "version": "3.8.10"
  },
  "orig_nbformat": 4
 },
 "nbformat": 4,
 "nbformat_minor": 2
}
