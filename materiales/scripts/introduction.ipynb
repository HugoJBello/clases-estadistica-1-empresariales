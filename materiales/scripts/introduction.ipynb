{
 "cells": [
  {
   "cell_type": "code",
   "execution_count": 6,
   "metadata": {},
   "outputs": [
    {
     "name": "stdout",
     "output_type": "stream",
     "text": [
      "[ 3000  5950  7600 10500 13800 21250 17550 14500 13950 11550  3500  1850]\n",
      "125000\n",
      "1250.0\n"
     ]
    }
   ],
   "source": [
    "import numpy as np\n",
    "\n",
    "\n",
    "\n",
    "x = np.array([750 , 850 , 950 , 1050, 1150, 1250, 1350, 1450, 1550, 1650, 1750, 1850])\n",
    "\n",
    "n = np.array([  4,  7,  8, 10, 12, 17, 13, 10,  9,  7,  2,  1])\n",
    "\n",
    "print(x*n)\n",
    "print((x*n).sum())\n",
    "print(125000/100)"
   ]
  }
 ],
 "metadata": {
  "interpreter": {
   "hash": "43e6ebcaa400c1cb7b7c40a139a553df1eb7d74efa216d92285ed302ffc918e7"
  },
  "kernelspec": {
   "display_name": "Python 3.8.10 ('clases-estadistica-1-empresariales-yTf3VkUW')",
   "language": "python",
   "name": "python3"
  },
  "language_info": {
   "codemirror_mode": {
    "name": "ipython",
    "version": 3
   },
   "file_extension": ".py",
   "mimetype": "text/x-python",
   "name": "python",
   "nbconvert_exporter": "python",
   "pygments_lexer": "ipython3",
   "version": "3.8.10"
  },
  "orig_nbformat": 4
 },
 "nbformat": 4,
 "nbformat_minor": 2
}
