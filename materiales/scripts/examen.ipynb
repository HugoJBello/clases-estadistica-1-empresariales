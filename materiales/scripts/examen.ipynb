{
 "cells": [
  {
   "cell_type": "code",
   "execution_count": 1,
   "metadata": {},
   "outputs": [],
   "source": [
    "import numpy as np\n",
    "import pandas as pd\n"
   ]
  },
  {
   "cell_type": "code",
   "execution_count": 4,
   "metadata": {},
   "outputs": [],
   "source": [
    "x= np.array([21,  \n",
    "4.1   ,\n",
    "7   ,\n",
    "12.3,\n",
    "13  ,\n",
    "8   ,\n",
    "10.5,\n",
    "11.1,\n",
    "8.5 ,\n",
    "11.3])\n",
    "\n",
    "\n",
    "y = np.array([\n",
    "    90.2,\n",
    "61  ,\n",
    "62.5,\n",
    "81.6,\n",
    "93  ,\n",
    "72.2,\n",
    "82.2,\n",
    "85.5,\n",
    "70.4,\n",
    "81.4\n",
    "])"
   ]
  },
  {
   "cell_type": "code",
   "execution_count": 2,
   "metadata": {},
   "outputs": [],
   "source": [
    "x= np.array([21,  \n",
    "4.1   ,\n",
    "7   ,\n",
    "12.3,\n",
    "13  ,\n",
    "8   ,\n",
    "10.5,\n",
    "11.1,\n",
    "8.5 ,\n",
    "11.3])\n",
    "\n",
    "y = np.array([9.2,\n",
    "6  ,\n",
    "6.5,\n",
    "8.6,\n",
    "9  ,\n",
    "7.2,\n",
    "8.2,\n",
    "8.5,\n",
    "7.4,\n",
    "8.4])"
   ]
  },
  {
   "cell_type": "code",
   "execution_count": 4,
   "metadata": {},
   "outputs": [],
   "source": [
    "x = np.array([1,\n",
    "3,\n",
    "3,\n",
    "4,\n",
    "3,\n",
    "5,\n",
    "6,\n",
    "7])\n",
    "\n",
    "y = np.array([7   ,\n",
    "    5.6,\n",
    "    5.2,\n",
    "    4  ,\n",
    "    3.2,\n",
    "    1  ,\n",
    "    0.5,\n",
    "    0  ])\n",
    "\n"
   ]
  },
  {
   "cell_type": "code",
   "execution_count": 5,
   "metadata": {},
   "outputs": [
    {
     "name": "stdout",
     "output_type": "stream",
     "text": [
      "10.68\n",
      "77.99999999999999\n",
      "18.3876\n",
      "109.29\n",
      "37.205\n",
      "0.8299435843285798\n",
      "0.6888063531681705\n"
     ]
    }
   ],
   "source": [
    "print(x.mean())\n",
    "print(y.mean())\n",
    "\n",
    "var_x = ((x - x.mean())**2).mean()\n",
    "var_y = ((y - y.mean())**2).mean()\n",
    "covar = ((x - x.mean()) * (y - y.mean())).mean()\n",
    "\n",
    "pearson = covar/(np.sqrt(var_x) * np.sqrt(var_y))\n",
    "\n",
    "print(var_x)\n",
    "print(var_y)\n",
    "print(covar)\n",
    "print(pearson)\n",
    "print(pearson**2)\n"
   ]
  },
  {
   "cell_type": "code",
   "execution_count": 17,
   "metadata": {},
   "outputs": [
    {
     "name": "stdout",
     "output_type": "stream",
     "text": [
      "8.389423076923077\n",
      "-1.2692307692307692\n",
      "0.13942307692307665\n"
     ]
    }
   ],
   "source": [
    "a = y.mean() - x.mean() * covar/var_x \n",
    "b= covar/var_x\n",
    "print(a)\n",
    "print(b)\n",
    "print(a + b * 6.5)"
   ]
  },
  {
   "cell_type": "code",
   "execution_count": 13,
   "metadata": {},
   "outputs": [
    {
     "name": "stdout",
     "output_type": "stream",
     "text": [
      "3.5\n",
      "3.0\n",
      "5.25\n"
     ]
    }
   ],
   "source": [
    "print(np.percentile(x, 50))\n",
    "print(np.percentile(x, 25))\n",
    "print(np.percentile(x, 75))"
   ]
  }
 ],
 "metadata": {
  "kernelspec": {
   "display_name": "Python 3.8.10 ('clases-estadistica-1-empresariales-yTf3VkUW')",
   "language": "python",
   "name": "python3"
  },
  "language_info": {
   "codemirror_mode": {
    "name": "ipython",
    "version": 3
   },
   "file_extension": ".py",
   "mimetype": "text/x-python",
   "name": "python",
   "nbconvert_exporter": "python",
   "pygments_lexer": "ipython3",
   "version": "3.8.10"
  },
  "orig_nbformat": 4,
  "vscode": {
   "interpreter": {
    "hash": "43e6ebcaa400c1cb7b7c40a139a553df1eb7d74efa216d92285ed302ffc918e7"
   }
  }
 },
 "nbformat": 4,
 "nbformat_minor": 2
}
