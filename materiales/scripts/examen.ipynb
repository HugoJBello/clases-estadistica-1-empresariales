{
 "cells": [
  {
   "cell_type": "code",
   "execution_count": 1,
   "metadata": {},
   "outputs": [],
   "source": [
    "import numpy as np\n",
    "import pandas as pd\n"
   ]
  },
  {
   "cell_type": "code",
   "execution_count": 4,
   "metadata": {},
   "outputs": [],
   "source": [
    "x = np.array([1,\n",
    "3,\n",
    "3,\n",
    "4,\n",
    "3,\n",
    "5,\n",
    "6,\n",
    "7])\n",
    "\n",
    "y = np.array([7   ,\n",
    "    5.6,\n",
    "    5.2,\n",
    "    4  ,\n",
    "    3.2,\n",
    "    1  ,\n",
    "    0.5,\n",
    "    0  ])\n",
    "\n"
   ]
  },
  {
   "cell_type": "code",
   "execution_count": 14,
   "metadata": {},
   "outputs": [
    {
     "name": "stdout",
     "output_type": "stream",
     "text": [
      "4.0\n",
      "3.3124999999999996\n",
      "3.25\n",
      "5.88859375\n",
      "-4.125\n",
      "-0.9429235347086679\n",
      "0.8891047923074884\n"
     ]
    }
   ],
   "source": [
    "print(x.mean())\n",
    "print(y.mean())\n",
    "\n",
    "var_x = ((x - x.mean())**2).mean()\n",
    "var_y = ((y - y.mean())**2).mean()\n",
    "covar = ((x - x.mean()) * (y - y.mean())).mean()\n",
    "\n",
    "pearson = covar/(np.sqrt(var_x) * np.sqrt(var_y))\n",
    "\n",
    "print(var_x)\n",
    "print(var_y)\n",
    "print(covar)\n",
    "print(pearson)\n",
    "print(pearson**2)\n"
   ]
  },
  {
   "cell_type": "code",
   "execution_count": 17,
   "metadata": {},
   "outputs": [
    {
     "name": "stdout",
     "output_type": "stream",
     "text": [
      "8.389423076923077\n",
      "-1.2692307692307692\n",
      "0.13942307692307665\n"
     ]
    }
   ],
   "source": [
    "a = y.mean() - x.mean() * covar/var_x \n",
    "b= covar/var_x\n",
    "print(a)\n",
    "print(b)\n",
    "print(a + b * 6.5)"
   ]
  },
  {
   "cell_type": "code",
   "execution_count": 13,
   "metadata": {},
   "outputs": [
    {
     "name": "stdout",
     "output_type": "stream",
     "text": [
      "3.5\n",
      "3.0\n",
      "5.25\n"
     ]
    }
   ],
   "source": [
    "print(np.percentile(x, 50))\n",
    "print(np.percentile(x, 25))\n",
    "print(np.percentile(x, 75))"
   ]
  }
 ],
 "metadata": {
  "kernelspec": {
   "display_name": "Python 3.8.10 ('clases-estadistica-1-empresariales-uefpyGZf')",
   "language": "python",
   "name": "python3"
  },
  "language_info": {
   "codemirror_mode": {
    "name": "ipython",
    "version": 3
   },
   "file_extension": ".py",
   "mimetype": "text/x-python",
   "name": "python",
   "nbconvert_exporter": "python",
   "pygments_lexer": "ipython3",
   "version": "3.8.10"
  },
  "orig_nbformat": 4,
  "vscode": {
   "interpreter": {
    "hash": "b8be2fd7f52d38b56a5547511b32d2ccf21985cbcea03912519a7a25d0aa766c"
   }
  }
 },
 "nbformat": 4,
 "nbformat_minor": 2
}
